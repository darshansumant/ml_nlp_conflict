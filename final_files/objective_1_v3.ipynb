{
 "cells": [
  {
   "cell_type": "code",
   "execution_count": 304,
   "metadata": {},
   "outputs": [],
   "source": [
    "import torch\n",
    "import torch.nn as nn\n",
    "import torch.nn.functional as F\n",
    "import torch.optim as optim\n",
    "torch.manual_seed(1)\n",
    "import spacy\n",
    "\n",
    "import torch.utils.data as tud\n",
    "from collections import Counter, defaultdict\n",
    "import operator\n",
    "import os, math\n",
    "import numpy as np\n",
    "import random\n",
    "import copy\n",
    "import pandas as pd\n",
    "\n",
    "import datetime\n",
    "\n",
    "import statsmodels.formula.api as smf\n",
    "\n",
    "import matplotlib.pyplot as plt\n"
   ]
  },
  {
   "cell_type": "code",
   "execution_count": 2,
   "metadata": {},
   "outputs": [],
   "source": [
    "# set the random seeds so the experiments can be replicated exactly\n",
    "seed = 30255\n",
    "random.seed(seed)\n",
    "np.random.seed(seed)\n",
    "torch.manual_seed(seed)\n",
    "if torch.cuda.is_available():\n",
    "    torch.cuda.manual_seed(seed)"
   ]
  },
  {
   "cell_type": "markdown",
   "metadata": {},
   "source": [
    "IMPORTING DATA, PREPROCESSING AND SPLITTING INTO DATASETS "
   ]
  },
  {
   "cell_type": "code",
   "execution_count": 3,
   "metadata": {},
   "outputs": [],
   "source": [
    "conflict_df = pd.read_csv('./data/050319_acled_all.csv')"
   ]
  },
  {
   "cell_type": "code",
   "execution_count": 4,
   "metadata": {
    "scrolled": true
   },
   "outputs": [
    {
     "data": {
      "text/plain": [
       "Index(['data_id', 'iso', 'event_id_cnty', 'event_id_no_cnty', 'event_date',\n",
       "       'year', 'time_precision', 'event_type', 'sub_event_type', 'actor1',\n",
       "       'assoc_actor_1', 'inter1', 'actor2', 'assoc_actor_2', 'inter2',\n",
       "       'interaction', 'region', 'country', 'admin1', 'admin2', 'admin3',\n",
       "       'location', 'latitude', 'longitude', 'geo_precision', 'source',\n",
       "       'source_scale', 'notes', 'fatalities', 'timestamp', 'iso3'],\n",
       "      dtype='object')"
      ]
     },
     "execution_count": 4,
     "metadata": {},
     "output_type": "execute_result"
    }
   ],
   "source": [
    "conflict_df.columns"
   ]
  },
  {
   "cell_type": "markdown",
   "metadata": {},
   "source": [
    "Removing short notes and three interaction codes that are not documented on codebook"
   ]
  },
  {
   "cell_type": "code",
   "execution_count": 5,
   "metadata": {},
   "outputs": [],
   "source": [
    "conflict_df['notes_char'] = conflict_df.notes.str.len()\n",
    "trimmed_conflict_df = conflict_df[conflict_df['notes_char']>=100] \n",
    "trimmed_conflict_df = trimmed_conflict_df[trimmed_conflict_df['interaction']!=88]\n",
    "trimmed_conflict_df = trimmed_conflict_df[trimmed_conflict_df['interaction']!=70]\n",
    "trimmed_conflict_df = trimmed_conflict_df[trimmed_conflict_df['interaction']!=77]\n"
   ]
  },
  {
   "cell_type": "code",
   "execution_count": 6,
   "metadata": {
    "scrolled": true
   },
   "outputs": [
    {
     "data": {
      "text/plain": [
       "417003"
      ]
     },
     "execution_count": 6,
     "metadata": {},
     "output_type": "execute_result"
    }
   ],
   "source": [
    "len(trimmed_conflict_df)"
   ]
  },
  {
   "cell_type": "code",
   "execution_count": 272,
   "metadata": {},
   "outputs": [
    {
     "data": {
      "text/plain": [
       "Text(0,0.5,'% rows')"
      ]
     },
     "execution_count": 272,
     "metadata": {},
     "output_type": "execute_result"
    },
    {
     "data": {
      "image/png": "[encoded data removed]",
      "text/plain": [
       "<matplotlib.figure.Figure at 0x1ffb3c33908>"
      ]
     },
     "metadata": {},
     "output_type": "display_data"
    }
   ],
   "source": [
    "per_interactions = (trimmed_conflict_df.groupby('interaction').size()/len(trimmed_conflict_df)).plot.bar(figsize = (15,5))\n",
    "per_interactions.set_ylabel(\"% rows\")"
   ]
  },
  {
   "cell_type": "markdown",
   "metadata": {},
   "source": [
    "Splitting data into train, dev and test. Note that training are the oldest 75% of news following a common practice of NLP projects that analyze news."
   ]
  },
  {
   "cell_type": "code",
   "execution_count": 8,
   "metadata": {},
   "outputs": [],
   "source": [
    "def split_data(data):\n",
    "    # reset index\n",
    "    data_idx = data.reset_index()\n",
    "    \n",
    "    # subsetting in .75 train and even random split the other.\n",
    "    dev_test_size = round(len(data_idx)*0.25)\n",
    "    tr_df = data_idx[dev_test_size:]\n",
    "    dev_test_df = data_idx[:dev_test_size]\n",
    "    ran_idx = np.random.choice(dev_test_size, round(dev_test_size/2), replace=False)\n",
    "    dev_df = dev_test_df.iloc[ran_idx]\n",
    "    test_df = dev_test_df.iloc[~ran_idx]\n",
    "    \n",
    "    #shuffling training so it doesn't see similar cases one after the other \n",
    "    tr_df = tr_df.sample(frac=1).reset_index(drop=True)\n",
    "        \n",
    "    # make them lists\n",
    "    train_l = tr_df[['data_id', 'interaction', 'notes']].values.tolist()\n",
    "    dev_l = dev_df[['data_id', 'interaction', 'notes']].values.tolist()\n",
    "    test_l = test_df[['data_id', 'interaction', 'notes']].values.tolist()\n",
    "    \n",
    "\n",
    "    return train_l, dev_l, test_l"
   ]
  },
  {
   "cell_type": "code",
   "execution_count": 9,
   "metadata": {},
   "outputs": [],
   "source": [
    "train_list, dev_list, test_list = split_data(trimmed_conflict_df)"
   ]
  },
  {
   "cell_type": "code",
   "execution_count": 10,
   "metadata": {
    "scrolled": false
   },
   "outputs": [
    {
     "name": "stdout",
     "output_type": "stream",
     "text": [
      "312752 52126 52126\n"
     ]
    }
   ],
   "source": [
    "print(len(train_list), len(dev_list), len(test_list))"
   ]
  },
  {
   "cell_type": "code",
   "execution_count": 11,
   "metadata": {
    "scrolled": true
   },
   "outputs": [],
   "source": [
    "#checking = pd.read_csv('obj1/train_list.csv')\n",
    "#checking.values.tolist()"
   ]
  },
  {
   "cell_type": "code",
   "execution_count": 12,
   "metadata": {},
   "outputs": [],
   "source": [
    "pd.DataFrame(train_list).to_csv('obj1/train_list.csv', index = False)\n",
    "pd.DataFrame(dev_list).to_csv('obj1/dev_list.csv', index = False)\n",
    "pd.DataFrame(test_list).to_csv('obj1/test_list.csv', index = False)"
   ]
  },
  {
   "cell_type": "markdown",
   "metadata": {},
   "source": [
    "MODEL"
   ]
  },
  {
   "cell_type": "code",
   "execution_count": 13,
   "metadata": {},
   "outputs": [],
   "source": [
    "label_to_idx = {10: 0, 11: 1, 12: 2, 13: 3, 14: 4, 15: 5, \n",
    "                16: 6, 17: 7, 18: 8, 20: 9, 22: 10, 23: 11, \n",
    "                24: 12, 25: 13, 26: 14, 27: 15, 28: 16, 30: 17, \n",
    "                33: 18, 34: 19, 35: 20, 36: 21, 37: 22, 38: 23,\n",
    "                40: 24, 44: 25, 45: 26, 46: 27, 47: 28, 48: 29,\n",
    "                50: 30, 55: 31, 56: 32, 57: 33, 58: 34, 60: 35, \n",
    "                66: 36, 67: 37, 68: 38, 78: 39, 80: 40}\n",
    "idx_to_label = [10, 11, 12, 13, 14, 15, 16, 17, 18, 20, 22, 23, 24, 25, 26,\n",
    "                27, 28, 30, 33, 34, 35, 36, 37, 38, 40, 44, 45, 46, 47, 48,\n",
    "                50, 55, 56, 57, 58, 60, 66, 67, 68, 78, 80]"
   ]
  },
  {
   "cell_type": "code",
   "execution_count": 14,
   "metadata": {},
   "outputs": [],
   "source": [
    "# we use pre-trained word embeddings from spacy\n",
    "nlp = spacy.load('en_core_web_md')"
   ]
  },
  {
   "cell_type": "markdown",
   "metadata": {},
   "source": [
    "This class performs the steps of a neural network model that uses as input the 300 dimensions of spacy's word embeddings, two layers (size 128 and 100), and outputs the 41 interaction codes. "
   ]
  },
  {
   "cell_type": "code",
   "execution_count": 15,
   "metadata": {},
   "outputs": [],
   "source": [
    "\n",
    "class InterClassifier(nn.Module):\n",
    "\n",
    "    def __init__(self, categories_size, learn_rate = 0.001):\n",
    "        super(InterClassifier, self).__init__()\n",
    "        \n",
    "        self.linear1 = nn.Linear(300, 128)\n",
    "        self.linear2 = nn.Linear(128, 100)\n",
    "        self.linear3 = nn.Linear(100, categories_size)\n",
    "        \n",
    "        self.loss_function = nn.NLLLoss()\n",
    "        self.optimizer = optim.Adam(self.parameters(), lr=learn_rate)\n",
    "\n",
    "    def forward(self, inputs):\n",
    "        # we ignore the embedding step since its included from spacy word2vec pre-trained model\n",
    "        out = F.relu(self.linear1(inputs))\n",
    "        out = F.relu(self.linear2(out))\n",
    "        out = self.linear3(out)\n",
    "        log_probs = F.log_softmax(out, dim=1)\n",
    "        return log_probs\n",
    "    \n",
    "    def classify(self, docs):\n",
    "        '''\n",
    "        This function classifies/predicts documents into their categories. \n",
    "        '''\n",
    "        classif = []\n",
    "        with torch.no_grad():\n",
    "            for data_id, target, note in docs:\n",
    "                #vectorize in embeddings using spacy pre-trained model\n",
    "                embeds = (nlp(note)).vector\n",
    "                note_vec = torch.tensor([embeds])\n",
    "\n",
    "                # spacy embedding is input of model\n",
    "                log_probs = self.forward(note_vec)\n",
    "\n",
    "                # fingin the max label\n",
    "                pred_idx = ((torch.topk(log_probs, 1)[1])[0]).item()\n",
    "                pred = idx_to_label[pred_idx]\n",
    "\n",
    "                # storing into output\n",
    "                classif.append((data_id, target, note, pred))\n",
    "        return classif            \n",
    "                \n",
    "                \n",
    "    def evaluate_classifier_accuracy(self, data):\n",
    "        '''\n",
    "        This function evaluates the data with the current model. \n",
    "        data contains both documents and labels. \n",
    "        It calls classify() to make predictions, \n",
    "        and compares with the correct labels to return \n",
    "        the model accuracy on \"data\". \n",
    "        '''\n",
    "\n",
    "        error_sum = 0\n",
    "\n",
    "        # calls classify to predict label in each case\n",
    "        classif_dat = self.classify(data)\n",
    "\n",
    "        # compares target to pred and calculates error rate\n",
    "        for data_id, target, note, pred in classif_dat:\n",
    "            if pred == target:\n",
    "                error_sum = error_sum\n",
    "            else:\n",
    "                error_sum += 1\n",
    "        error = error_sum/len(classif_dat)\n",
    "        \n",
    "        return error\n",
    "    \n",
    "    \n",
    "    def train(self, training_list, development_list, n_epochs):\n",
    "        \n",
    "        losses = []\n",
    "        dev_err = []\n",
    "        error = 1\n",
    "        \n",
    "        for epoch in range(n_epochs):\n",
    "            i = 0\n",
    "            running_loss = 0.0\n",
    "            for data_id, target, note in training_list:\n",
    "\n",
    "                # cleaning gradiatent\n",
    "                self.zero_grad()\n",
    "                \n",
    "                # vectorizing text using spacy pre-trained model\n",
    "                embeds = (nlp(note)).vector\n",
    "                note_vec = torch.tensor([embeds])\n",
    "                \n",
    "                # including embedding into model and predicting\n",
    "                predictions = self.forward(note_vec)\n",
    "\n",
    "                # identifying target index\n",
    "                target_idx = torch.tensor([label_to_idx[target]])\n",
    "                \n",
    "                # calculating loss and applying gradiant descent\n",
    "                loss = self.loss_function(predictions, target_idx)\n",
    "                loss.backward()\n",
    "                self.optimizer.step()\n",
    "\n",
    "                # print statistics of loss and dev error rate. Chunck taken from https://pytorch.org/tutorials/beginner/blitz/cifar10_tutorial.html\n",
    "                i += 1\n",
    "                running_loss += loss.item()\n",
    "                if i % 5000 == 0:    # print average loss every 5,000\n",
    "                    print('[%5d] loss: %.3f' % (i, running_loss / 5000))\n",
    "                    losses.append(running_loss)\n",
    "                    running_loss = 0.0\n",
    "                if i % 80000 == 0 or i == 312752:    # check dev error every 80,000 or when reach end of data and save best model\n",
    "                    model_err = self.evaluate_classifier_accuracy(development_list)\n",
    "                    print('dev error: ', model_err)\n",
    "                    dev_err.append(model_err)\n",
    "                    if model_err < error:\n",
    "                        error = model_err\n",
    "                        best_model = copy.deepcopy(self)\n",
    "\n",
    "           \n",
    "        return best_model, error, losses, dev_err\n",
    "        \n",
    "        \n",
    "    "
   ]
  },
  {
   "cell_type": "markdown",
   "metadata": {},
   "source": [
    "TRAINING MODEL"
   ]
  },
  {
   "cell_type": "code",
   "execution_count": 16,
   "metadata": {},
   "outputs": [],
   "source": [
    "main_model = InterClassifier(41)"
   ]
  },
  {
   "cell_type": "code",
   "execution_count": 17,
   "metadata": {},
   "outputs": [
    {
     "name": "stdout",
     "output_type": "stream",
     "text": [
      "2019-06-02 04:52:51.443899\n"
     ]
    }
   ],
   "source": [
    "print(datetime.datetime.now())"
   ]
  },
  {
   "cell_type": "code",
   "execution_count": 18,
   "metadata": {
    "scrolled": true
   },
   "outputs": [
    {
     "name": "stdout",
     "output_type": "stream",
     "text": [
      "[ 5000] loss: 1.981\n",
      "[10000] loss: 1.588\n",
      "[15000] loss: 1.423\n",
      "[20000] loss: 1.344\n",
      "[25000] loss: 1.272\n",
      "[30000] loss: 1.191\n",
      "[35000] loss: 1.174\n",
      "[40000] loss: 1.198\n",
      "[45000] loss: 1.177\n",
      "[50000] loss: 1.148\n",
      "[55000] loss: 1.133\n",
      "[60000] loss: 1.077\n",
      "[65000] loss: 1.140\n",
      "[70000] loss: 1.101\n",
      "[75000] loss: 1.090\n",
      "[80000] loss: 1.088\n",
      "dev error:  0.2835820895522388\n",
      "[85000] loss: 1.077\n",
      "[90000] loss: 1.091\n",
      "[95000] loss: 1.086\n",
      "[100000] loss: 1.060\n",
      "[105000] loss: 1.055\n",
      "[110000] loss: 1.066\n",
      "[115000] loss: 1.015\n",
      "[120000] loss: 1.069\n",
      "[125000] loss: 1.061\n",
      "[130000] loss: 1.099\n",
      "[135000] loss: 1.041\n",
      "[140000] loss: 1.044\n",
      "[145000] loss: 1.014\n",
      "[150000] loss: 1.054\n",
      "[155000] loss: 1.035\n",
      "[160000] loss: 1.083\n",
      "dev error:  0.2930015731113072\n",
      "[165000] loss: 1.085\n",
      "[170000] loss: 1.077\n",
      "[175000] loss: 1.041\n",
      "[180000] loss: 1.072\n",
      "[185000] loss: 1.059\n",
      "[190000] loss: 1.049\n",
      "[195000] loss: 1.055\n",
      "[200000] loss: 1.035\n",
      "[205000] loss: 1.050\n",
      "[210000] loss: 1.027\n",
      "[215000] loss: 1.070\n",
      "[220000] loss: 1.071\n",
      "[225000] loss: 1.061\n",
      "[230000] loss: 1.013\n",
      "[235000] loss: 1.009\n",
      "[240000] loss: 1.056\n",
      "dev error:  0.2907378275716533\n",
      "[245000] loss: 1.053\n",
      "[250000] loss: 1.047\n",
      "[255000] loss: 1.061\n",
      "[260000] loss: 1.053\n",
      "[265000] loss: 1.063\n",
      "[270000] loss: 1.018\n",
      "[275000] loss: 1.030\n",
      "[280000] loss: 1.014\n",
      "[285000] loss: 1.079\n",
      "[290000] loss: 1.049\n",
      "[295000] loss: 1.044\n",
      "[300000] loss: 1.063\n",
      "[305000] loss: 1.046\n",
      "[310000] loss: 1.060\n",
      "dev error:  0.3327130414764225\n",
      "[ 5000] loss: 1.038\n",
      "[10000] loss: 1.023\n",
      "[15000] loss: 1.043\n",
      "[20000] loss: 1.089\n",
      "[25000] loss: 1.087\n",
      "[30000] loss: 1.019\n",
      "[35000] loss: 1.022\n",
      "[40000] loss: 1.065\n",
      "[45000] loss: 1.053\n",
      "[50000] loss: 1.051\n",
      "[55000] loss: 1.037\n",
      "[60000] loss: 0.983\n",
      "[65000] loss: 1.074\n",
      "[70000] loss: 1.032\n",
      "[75000] loss: 1.052\n",
      "[80000] loss: 1.045\n",
      "dev error:  0.2749875302152477\n",
      "[85000] loss: 1.035\n",
      "[90000] loss: 1.046\n",
      "[95000] loss: 1.043\n",
      "[100000] loss: 1.038\n",
      "[105000] loss: 1.026\n",
      "[110000] loss: 1.047\n",
      "[115000] loss: 0.988\n",
      "[120000] loss: 1.046\n",
      "[125000] loss: 1.048\n",
      "[130000] loss: 1.074\n",
      "[135000] loss: 1.028\n",
      "[140000] loss: 1.053\n",
      "[145000] loss: 1.004\n",
      "[150000] loss: 1.064\n",
      "[155000] loss: 1.041\n",
      "[160000] loss: 1.096\n",
      "dev error:  0.29492000153474274\n",
      "[165000] loss: 1.090\n",
      "[170000] loss: 1.076\n",
      "[175000] loss: 1.045\n",
      "[180000] loss: 1.043\n",
      "[185000] loss: 1.047\n",
      "[190000] loss: 1.045\n",
      "[195000] loss: 1.061\n",
      "[200000] loss: 1.041\n",
      "[205000] loss: 1.067\n",
      "[210000] loss: 1.057\n",
      "[215000] loss: 1.090\n",
      "[220000] loss: 1.079\n",
      "[225000] loss: 1.094\n",
      "[230000] loss: 1.019\n",
      "[235000] loss: 1.058\n",
      "[240000] loss: 1.054\n",
      "dev error:  0.30387906227218664\n",
      "[245000] loss: 1.069\n",
      "[250000] loss: 1.071\n",
      "[255000] loss: 1.081\n",
      "[260000] loss: 1.058\n",
      "[265000] loss: 1.083\n",
      "[270000] loss: 1.055\n",
      "[275000] loss: 1.042\n",
      "[280000] loss: 1.053\n",
      "[285000] loss: 1.076\n",
      "[290000] loss: 1.044\n",
      "[295000] loss: 1.059\n",
      "[300000] loss: 1.069\n",
      "[305000] loss: 1.080\n",
      "[310000] loss: 1.068\n",
      "dev error:  0.33129340444308025\n"
     ]
    }
   ],
   "source": [
    "best_main, besterror_main, losses_main, deverr_main = main_model.train(train_list, dev_list, 2)"
   ]
  },
  {
   "cell_type": "code",
   "execution_count": 19,
   "metadata": {},
   "outputs": [
    {
     "name": "stdout",
     "output_type": "stream",
     "text": [
      "2019-06-02 09:56:12.896416\n"
     ]
    }
   ],
   "source": [
    "print(datetime.datetime.now())"
   ]
  },
  {
   "cell_type": "code",
   "execution_count": 20,
   "metadata": {
    "scrolled": true
   },
   "outputs": [
    {
     "name": "stderr",
     "output_type": "stream",
     "text": [
      "C:\\Users\\gonza\\Anaconda3\\lib\\site-packages\\torch\\serialization.py:251: UserWarning: Couldn't retrieve source code for container of type InterClassifier. It won't be checked for correctness upon loading.\n",
      "  \"type \" + obj.__name__ + \". It won't be checked \"\n"
     ]
    }
   ],
   "source": [
    "# saving the best trained model \n",
    "torch.save(best_main, \"obj1/best_model_main.pt\")"
   ]
  },
  {
   "cell_type": "code",
   "execution_count": 21,
   "metadata": {},
   "outputs": [],
   "source": [
    "#best_main = torch.load(\"obj1/best_model_main.pt\")"
   ]
  },
  {
   "cell_type": "code",
   "execution_count": 22,
   "metadata": {
    "scrolled": true
   },
   "outputs": [
    {
     "data": {
      "text/plain": [
       "<matplotlib.axes._subplots.AxesSubplot at 0x200c05e4b00>"
      ]
     },
     "execution_count": 22,
     "metadata": {},
     "output_type": "execute_result"
    },
    {
     "data": {
      "image/png": "[encoded data removed]",
      "text/plain": [
       "<matplotlib.figure.Figure at 0x1ffaa716860>"
      ]
     },
     "metadata": {},
     "output_type": "display_data"
    }
   ],
   "source": [
    "%matplotlib inline\n",
    "pd.Series(losses_main).plot()\n"
   ]
  },
  {
   "cell_type": "code",
   "execution_count": 338,
   "metadata": {},
   "outputs": [],
   "source": [
    "deverr_main_df = pd.DataFrame(deverr_main)\n",
    "losses_main_df = pd.DataFrame(losses_main)"
   ]
  },
  {
   "cell_type": "code",
   "execution_count": 38,
   "metadata": {},
   "outputs": [],
   "source": [
    "deverr_main_df.to_csv('obj1/deverr_main.csv', index = False)\n",
    "losses_main_df.to_csv('obj1/losses_main.csv', index = False)"
   ]
  },
  {
   "cell_type": "code",
   "execution_count": 340,
   "metadata": {
    "scrolled": true
   },
   "outputs": [
    {
     "data": {
      "text/html": [
       "<div>\n",
       "<style scoped>\n",
       "    .dataframe tbody tr th:only-of-type {\n",
       "        vertical-align: middle;\n",
       "    }\n",
       "\n",
       "    .dataframe tbody tr th {\n",
       "        vertical-align: top;\n",
       "    }\n",
       "\n",
       "    .dataframe thead th {\n",
       "        text-align: right;\n",
       "    }\n",
       "</style>\n",
       "<table border=\"1\" class=\"dataframe\">\n",
       "  <thead>\n",
       "    <tr style=\"text-align: right;\">\n",
       "      <th></th>\n",
       "      <th>Valid Error</th>\n",
       "      <th>Iter</th>\n",
       "      <th>Valid_Accur</th>\n",
       "    </tr>\n",
       "  </thead>\n",
       "  <tbody>\n",
       "    <tr>\n",
       "      <th>0</th>\n",
       "      <td>0.283582</td>\n",
       "      <td>80000</td>\n",
       "      <td>0.716418</td>\n",
       "    </tr>\n",
       "    <tr>\n",
       "      <th>1</th>\n",
       "      <td>0.293002</td>\n",
       "      <td>160000</td>\n",
       "      <td>0.706998</td>\n",
       "    </tr>\n",
       "    <tr>\n",
       "      <th>2</th>\n",
       "      <td>0.290738</td>\n",
       "      <td>240000</td>\n",
       "      <td>0.709262</td>\n",
       "    </tr>\n",
       "    <tr>\n",
       "      <th>3</th>\n",
       "      <td>0.332713</td>\n",
       "      <td>312752</td>\n",
       "      <td>0.667287</td>\n",
       "    </tr>\n",
       "    <tr>\n",
       "      <th>4</th>\n",
       "      <td>0.274988</td>\n",
       "      <td>392752</td>\n",
       "      <td>0.725012</td>\n",
       "    </tr>\n",
       "    <tr>\n",
       "      <th>5</th>\n",
       "      <td>0.294920</td>\n",
       "      <td>472752</td>\n",
       "      <td>0.705080</td>\n",
       "    </tr>\n",
       "    <tr>\n",
       "      <th>6</th>\n",
       "      <td>0.303879</td>\n",
       "      <td>552752</td>\n",
       "      <td>0.696121</td>\n",
       "    </tr>\n",
       "    <tr>\n",
       "      <th>7</th>\n",
       "      <td>0.331293</td>\n",
       "      <td>632752</td>\n",
       "      <td>0.668707</td>\n",
       "    </tr>\n",
       "  </tbody>\n",
       "</table>\n",
       "</div>"
      ],
      "text/plain": [
       "   Valid Error    Iter  Valid_Accur\n",
       "0     0.283582   80000     0.716418\n",
       "1     0.293002  160000     0.706998\n",
       "2     0.290738  240000     0.709262\n",
       "3     0.332713  312752     0.667287\n",
       "4     0.274988  392752     0.725012\n",
       "5     0.294920  472752     0.705080\n",
       "6     0.303879  552752     0.696121\n",
       "7     0.331293  632752     0.668707"
      ]
     },
     "execution_count": 340,
     "metadata": {},
     "output_type": "execute_result"
    }
   ],
   "source": [
    "deverr_main_df['Iter'] = pd.Series([80000,160000,240000,312752,392752, 472752,552752, 632752])\n",
    "deverr_main_df['Valid Accur'] = (1-deverr_main_df[0])\n",
    "deverr_main_df.columns = ['Valid Error', 'Iter', 'Valid_Accur']"
   ]
  },
  {
   "cell_type": "code",
   "execution_count": 341,
   "metadata": {},
   "outputs": [],
   "source": [
    "losses_main_df['Iter'] = pd.Series(np.arange(5000,625000,5000))"
   ]
  },
  {
   "cell_type": "code",
   "execution_count": 342,
   "metadata": {},
   "outputs": [],
   "source": [
    "losses_main_df.columns = ['Loss', 'Iter']"
   ]
  },
  {
   "cell_type": "code",
   "execution_count": 355,
   "metadata": {},
   "outputs": [
    {
     "data": {
      "image/png": "[encoded data removed]",
      "text/plain": [
       "<matplotlib.figure.Figure at 0x201aeed0860>"
      ]
     },
     "metadata": {},
     "output_type": "display_data"
    }
   ],
   "source": [
    "#https://matplotlib.org/gallery/api/two_scales.html\n",
    "\n",
    "fig, ax1 = plt.subplots()\n",
    "\n",
    "color = 'tab:red'\n",
    "ax1.set_xlabel('Iteration')\n",
    "ax1.set_ylabel('Training Loss')\n",
    "ax1.plot(losses_main_df['Iter'], losses_main_df['Loss'], color=color)\n",
    "ax1.legend(loc='upper left')\n",
    "\n",
    "ax2 = ax1.twinx()  # instantiate a second axes that shares the same x-axis\n",
    "\n",
    "color = 'tab:blue'\n",
    "ax2.set_ylabel('Validation Accuracy')  # we already handled the x-label with ax1\n",
    "ax2.plot(deverr_main_df['Iter'], deverr_main_df['Valid_Accur'], color=color)\n",
    "ax2.legend(loc='upper right')\n",
    "ax2.set_ylim(.64, .76)\n",
    "\n",
    "fig.tight_layout()  # otherwise the right y-label is slightly clipped\n",
    "plt.show()"
   ]
  },
  {
   "cell_type": "code",
   "execution_count": 345,
   "metadata": {},
   "outputs": [
    {
     "data": {
      "text/plain": [
       "0.7250124697847523"
      ]
     },
     "execution_count": 345,
     "metadata": {},
     "output_type": "execute_result"
    }
   ],
   "source": [
    "1-besterror_main"
   ]
  },
  {
   "cell_type": "markdown",
   "metadata": {},
   "source": [
    "CLASSIFYING TEST"
   ]
  },
  {
   "cell_type": "code",
   "execution_count": 23,
   "metadata": {},
   "outputs": [],
   "source": [
    "test_classif_main = best_main.classify(test_list)"
   ]
  },
  {
   "cell_type": "code",
   "execution_count": null,
   "metadata": {},
   "outputs": [],
   "source": [
    "pd.DataFrame(test_classif_main).to_csv('obj1/test_classif_main.csv', index = False)"
   ]
  },
  {
   "cell_type": "code",
   "execution_count": 191,
   "metadata": {},
   "outputs": [],
   "source": [
    "test_classif_main_df = pd.DataFrame(test_classif_main, \n",
    "                                    columns = ['data_id', 'interaction', 'notes', 'pred'])"
   ]
  },
  {
   "cell_type": "code",
   "execution_count": 192,
   "metadata": {},
   "outputs": [],
   "source": [
    "test_classif_main_df['correct'] = test_classif_main_df['interaction'] == test_classif_main_df['pred']"
   ]
  },
  {
   "cell_type": "code",
   "execution_count": 232,
   "metadata": {},
   "outputs": [
    {
     "data": {
      "text/plain": [
       "0.7226144342554579"
      ]
     },
     "execution_count": 232,
     "metadata": {},
     "output_type": "execute_result"
    }
   ],
   "source": [
    "test_acc = test_classif_main_df.correct.mean()\n",
    "test_acc"
   ]
  },
  {
   "cell_type": "markdown",
   "metadata": {},
   "source": [
    "OLS WITH KEY VARS"
   ]
  },
  {
   "cell_type": "code",
   "execution_count": 239,
   "metadata": {},
   "outputs": [],
   "source": [
    "test_classif_main_df_vars = pd.merge(test_classif_main_df, conflict_df, on = 'data_id', how = 'left')"
   ]
  },
  {
   "cell_type": "code",
   "execution_count": 260,
   "metadata": {},
   "outputs": [],
   "source": [
    "test_classif_main_df_vars['correct_int'] = test_classif_main_df_vars.correct.astype(int)"
   ]
  },
  {
   "cell_type": "code",
   "execution_count": 262,
   "metadata": {},
   "outputs": [
    {
     "data": {
      "text/html": [
       "<table class=\"simpletable\">\n",
       "<caption>OLS Regression Results</caption>\n",
       "<tr>\n",
       "  <th>Dep. Variable:</th>       <td>correct_int</td>   <th>  R-squared:         </th> <td>   0.424</td> \n",
       "</tr>\n",
       "<tr>\n",
       "  <th>Model:</th>                   <td>OLS</td>       <th>  Adj. R-squared:    </th> <td>   0.423</td> \n",
       "</tr>\n",
       "<tr>\n",
       "  <th>Method:</th>             <td>Least Squares</td>  <th>  F-statistic:       </th> <td>   934.3</td> \n",
       "</tr>\n",
       "<tr>\n",
       "  <th>Date:</th>             <td>Mon, 03 Jun 2019</td> <th>  Prob (F-statistic):</th>  <td>  0.00</td>  \n",
       "</tr>\n",
       "<tr>\n",
       "  <th>Time:</th>                 <td>06:31:07</td>     <th>  Log-Likelihood:    </th> <td> -17706.</td> \n",
       "</tr>\n",
       "<tr>\n",
       "  <th>No. Observations:</th>      <td> 52126</td>      <th>  AIC:               </th> <td>3.550e+04</td>\n",
       "</tr>\n",
       "<tr>\n",
       "  <th>Df Residuals:</th>          <td> 52084</td>      <th>  BIC:               </th> <td>3.587e+04</td>\n",
       "</tr>\n",
       "<tr>\n",
       "  <th>Df Model:</th>              <td>    41</td>      <th>                     </th>     <td> </td>    \n",
       "</tr>\n",
       "<tr>\n",
       "  <th>Covariance Type:</th>      <td>nonrobust</td>    <th>                     </th>     <td> </td>    \n",
       "</tr>\n",
       "</table>\n",
       "<table class=\"simpletable\">\n",
       "<tr>\n",
       "             <td></td>               <th>coef</th>     <th>std err</th>      <th>t</th>      <th>P>|t|</th>  <th>[0.025</th>    <th>0.975]</th>  \n",
       "</tr>\n",
       "<tr>\n",
       "  <th>Intercept</th>              <td>    0.9505</td> <td>    0.007</td> <td>  141.122</td> <td> 0.000</td> <td>    0.937</td> <td>    0.964</td>\n",
       "</tr>\n",
       "<tr>\n",
       "  <th>C(interaction_x)[T.11]</th> <td>   -0.2698</td> <td>    0.011</td> <td>  -24.932</td> <td> 0.000</td> <td>   -0.291</td> <td>   -0.249</td>\n",
       "</tr>\n",
       "<tr>\n",
       "  <th>C(interaction_x)[T.12]</th> <td>    0.0538</td> <td>    0.007</td> <td>    7.582</td> <td> 0.000</td> <td>    0.040</td> <td>    0.068</td>\n",
       "</tr>\n",
       "<tr>\n",
       "  <th>C(interaction_x)[T.13]</th> <td>   -0.5507</td> <td>    0.010</td> <td>  -55.623</td> <td> 0.000</td> <td>   -0.570</td> <td>   -0.531</td>\n",
       "</tr>\n",
       "<tr>\n",
       "  <th>C(interaction_x)[T.14]</th> <td>   -0.8556</td> <td>    0.028</td> <td>  -30.209</td> <td> 0.000</td> <td>   -0.911</td> <td>   -0.800</td>\n",
       "</tr>\n",
       "<tr>\n",
       "  <th>C(interaction_x)[T.15]</th> <td>   -0.2332</td> <td>    0.012</td> <td>  -20.215</td> <td> 0.000</td> <td>   -0.256</td> <td>   -0.211</td>\n",
       "</tr>\n",
       "<tr>\n",
       "  <th>C(interaction_x)[T.16]</th> <td>   -0.2632</td> <td>    0.011</td> <td>  -23.404</td> <td> 0.000</td> <td>   -0.285</td> <td>   -0.241</td>\n",
       "</tr>\n",
       "<tr>\n",
       "  <th>C(interaction_x)[T.17]</th> <td>   -0.2592</td> <td>    0.009</td> <td>  -27.333</td> <td> 0.000</td> <td>   -0.278</td> <td>   -0.241</td>\n",
       "</tr>\n",
       "<tr>\n",
       "  <th>C(interaction_x)[T.18]</th> <td>   -0.1626</td> <td>    0.014</td> <td>  -11.827</td> <td> 0.000</td> <td>   -0.190</td> <td>   -0.136</td>\n",
       "</tr>\n",
       "<tr>\n",
       "  <th>C(interaction_x)[T.20]</th> <td>   -0.7882</td> <td>    0.013</td> <td>  -62.517</td> <td> 0.000</td> <td>   -0.813</td> <td>   -0.764</td>\n",
       "</tr>\n",
       "<tr>\n",
       "  <th>C(interaction_x)[T.22]</th> <td>   -0.3820</td> <td>    0.015</td> <td>  -26.063</td> <td> 0.000</td> <td>   -0.411</td> <td>   -0.353</td>\n",
       "</tr>\n",
       "<tr>\n",
       "  <th>C(interaction_x)[T.23]</th> <td>   -0.8225</td> <td>    0.016</td> <td>  -50.463</td> <td> 0.000</td> <td>   -0.854</td> <td>   -0.791</td>\n",
       "</tr>\n",
       "<tr>\n",
       "  <th>C(interaction_x)[T.24]</th> <td>   -0.8416</td> <td>    0.040</td> <td>  -21.035</td> <td> 0.000</td> <td>   -0.920</td> <td>   -0.763</td>\n",
       "</tr>\n",
       "<tr>\n",
       "  <th>C(interaction_x)[T.25]</th> <td>   -0.8599</td> <td>    0.095</td> <td>   -9.098</td> <td> 0.000</td> <td>   -1.045</td> <td>   -0.675</td>\n",
       "</tr>\n",
       "<tr>\n",
       "  <th>C(interaction_x)[T.26]</th> <td>   -0.8385</td> <td>    0.120</td> <td>   -6.963</td> <td> 0.000</td> <td>   -1.074</td> <td>   -0.602</td>\n",
       "</tr>\n",
       "<tr>\n",
       "  <th>C(interaction_x)[T.27]</th> <td>   -0.3260</td> <td>    0.012</td> <td>  -26.406</td> <td> 0.000</td> <td>   -0.350</td> <td>   -0.302</td>\n",
       "</tr>\n",
       "<tr>\n",
       "  <th>C(interaction_x)[T.28]</th> <td>   -0.5199</td> <td>    0.014</td> <td>  -37.498</td> <td> 0.000</td> <td>   -0.547</td> <td>   -0.493</td>\n",
       "</tr>\n",
       "<tr>\n",
       "  <th>C(interaction_x)[T.30]</th> <td>   -0.5780</td> <td>    0.013</td> <td>  -44.781</td> <td> 0.000</td> <td>   -0.603</td> <td>   -0.553</td>\n",
       "</tr>\n",
       "<tr>\n",
       "  <th>C(interaction_x)[T.33]</th> <td>   -0.7717</td> <td>    0.020</td> <td>  -38.139</td> <td> 0.000</td> <td>   -0.811</td> <td>   -0.732</td>\n",
       "</tr>\n",
       "<tr>\n",
       "  <th>C(interaction_x)[T.34]</th> <td>   -0.8717</td> <td>    0.048</td> <td>  -18.153</td> <td> 0.000</td> <td>   -0.966</td> <td>   -0.778</td>\n",
       "</tr>\n",
       "<tr>\n",
       "  <th>C(interaction_x)[T.35]</th> <td>   -0.8570</td> <td>    0.062</td> <td>  -13.730</td> <td> 0.000</td> <td>   -0.979</td> <td>   -0.735</td>\n",
       "</tr>\n",
       "<tr>\n",
       "  <th>C(interaction_x)[T.36]</th> <td>   -0.8818</td> <td>    0.095</td> <td>   -9.330</td> <td> 0.000</td> <td>   -1.067</td> <td>   -0.697</td>\n",
       "</tr>\n",
       "<tr>\n",
       "  <th>C(interaction_x)[T.37]</th> <td>   -0.2394</td> <td>    0.009</td> <td>  -26.629</td> <td> 0.000</td> <td>   -0.257</td> <td>   -0.222</td>\n",
       "</tr>\n",
       "<tr>\n",
       "  <th>C(interaction_x)[T.38]</th> <td>   -0.8612</td> <td>    0.015</td> <td>  -57.975</td> <td> 0.000</td> <td>   -0.890</td> <td>   -0.832</td>\n",
       "</tr>\n",
       "<tr>\n",
       "  <th>C(interaction_x)[T.40]</th> <td>   -0.8874</td> <td>    0.108</td> <td>   -8.239</td> <td> 0.000</td> <td>   -1.098</td> <td>   -0.676</td>\n",
       "</tr>\n",
       "<tr>\n",
       "  <th>C(interaction_x)[T.44]</th> <td>   -0.4109</td> <td>    0.021</td> <td>  -19.227</td> <td> 0.000</td> <td>   -0.453</td> <td>   -0.369</td>\n",
       "</tr>\n",
       "<tr>\n",
       "  <th>C(interaction_x)[T.45]</th> <td>   -0.8567</td> <td>    0.196</td> <td>   -4.362</td> <td> 0.000</td> <td>   -1.242</td> <td>   -0.472</td>\n",
       "</tr>\n",
       "<tr>\n",
       "  <th>C(interaction_x)[T.47]</th> <td>   -0.7299</td> <td>    0.016</td> <td>  -45.226</td> <td> 0.000</td> <td>   -0.761</td> <td>   -0.698</td>\n",
       "</tr>\n",
       "<tr>\n",
       "  <th>C(interaction_x)[T.48]</th> <td>   -0.8746</td> <td>    0.120</td> <td>   -7.266</td> <td> 0.000</td> <td>   -1.111</td> <td>   -0.639</td>\n",
       "</tr>\n",
       "<tr>\n",
       "  <th>C(interaction_x)[T.50]</th> <td>   -0.6646</td> <td>    0.013</td> <td>  -49.734</td> <td> 0.000</td> <td>   -0.691</td> <td>   -0.638</td>\n",
       "</tr>\n",
       "<tr>\n",
       "  <th>C(interaction_x)[T.55]</th> <td>   -0.6196</td> <td>    0.015</td> <td>  -40.242</td> <td> 0.000</td> <td>   -0.650</td> <td>   -0.589</td>\n",
       "</tr>\n",
       "<tr>\n",
       "  <th>C(interaction_x)[T.56]</th> <td>   -0.8523</td> <td>    0.060</td> <td>  -14.093</td> <td> 0.000</td> <td>   -0.971</td> <td>   -0.734</td>\n",
       "</tr>\n",
       "<tr>\n",
       "  <th>C(interaction_x)[T.57]</th> <td>   -0.7128</td> <td>    0.012</td> <td>  -59.717</td> <td> 0.000</td> <td>   -0.736</td> <td>   -0.689</td>\n",
       "</tr>\n",
       "<tr>\n",
       "  <th>C(interaction_x)[T.58]</th> <td>   -0.3709</td> <td>    0.019</td> <td>  -19.064</td> <td> 0.000</td> <td>   -0.409</td> <td>   -0.333</td>\n",
       "</tr>\n",
       "<tr>\n",
       "  <th>C(interaction_x)[T.60]</th> <td>    0.0903</td> <td>    0.007</td> <td>   13.278</td> <td> 0.000</td> <td>    0.077</td> <td>    0.104</td>\n",
       "</tr>\n",
       "<tr>\n",
       "  <th>C(interaction_x)[T.66]</th> <td>   -0.8446</td> <td>    0.083</td> <td>  -10.207</td> <td> 0.000</td> <td>   -1.007</td> <td>   -0.682</td>\n",
       "</tr>\n",
       "<tr>\n",
       "  <th>C(interaction_x)[T.67]</th> <td>   -0.8641</td> <td>    0.120</td> <td>   -7.179</td> <td> 0.000</td> <td>   -1.100</td> <td>   -0.628</td>\n",
       "</tr>\n",
       "<tr>\n",
       "  <th>C(interaction_x)[T.68]</th> <td>   -0.8143</td> <td>    0.042</td> <td>  -19.383</td> <td> 0.000</td> <td>   -0.897</td> <td>   -0.732</td>\n",
       "</tr>\n",
       "<tr>\n",
       "  <th>C(interaction_x)[T.78]</th> <td>   -0.4518</td> <td>    0.016</td> <td>  -28.075</td> <td> 0.000</td> <td>   -0.483</td> <td>   -0.420</td>\n",
       "</tr>\n",
       "<tr>\n",
       "  <th>C(interaction_x)[T.80]</th> <td>   -0.1601</td> <td>    0.012</td> <td>  -13.582</td> <td> 0.000</td> <td>   -0.183</td> <td>   -0.137</td>\n",
       "</tr>\n",
       "<tr>\n",
       "  <th>C(year)[T.2019]</th>        <td>   -0.0155</td> <td>    0.003</td> <td>   -5.109</td> <td> 0.000</td> <td>   -0.021</td> <td>   -0.010</td>\n",
       "</tr>\n",
       "<tr>\n",
       "  <th>notes_char</th>             <td>   -0.0003</td> <td>  1.8e-05</td> <td>  -16.925</td> <td> 0.000</td> <td>   -0.000</td> <td>   -0.000</td>\n",
       "</tr>\n",
       "</table>\n",
       "<table class=\"simpletable\">\n",
       "<tr>\n",
       "  <th>Omnibus:</th>       <td>3610.777</td> <th>  Durbin-Watson:     </th> <td>   1.998</td>\n",
       "</tr>\n",
       "<tr>\n",
       "  <th>Prob(Omnibus):</th>  <td> 0.000</td>  <th>  Jarque-Bera (JB):  </th> <td>5061.492</td>\n",
       "</tr>\n",
       "<tr>\n",
       "  <th>Skew:</th>           <td>-0.599</td>  <th>  Prob(JB):          </th> <td>    0.00</td>\n",
       "</tr>\n",
       "<tr>\n",
       "  <th>Kurtosis:</th>       <td> 3.947</td>  <th>  Cond. No.          </th> <td>3.04e+04</td>\n",
       "</tr>\n",
       "</table>"
      ],
      "text/plain": [
       "<class 'statsmodels.iolib.summary.Summary'>\n",
       "\"\"\"\n",
       "                            OLS Regression Results                            \n",
       "==============================================================================\n",
       "Dep. Variable:            correct_int   R-squared:                       0.424\n",
       "Model:                            OLS   Adj. R-squared:                  0.423\n",
       "Method:                 Least Squares   F-statistic:                     934.3\n",
       "Date:                Mon, 03 Jun 2019   Prob (F-statistic):               0.00\n",
       "Time:                        06:31:07   Log-Likelihood:                -17706.\n",
       "No. Observations:               52126   AIC:                         3.550e+04\n",
       "Df Residuals:                   52084   BIC:                         3.587e+04\n",
       "Df Model:                          41                                         \n",
       "Covariance Type:            nonrobust                                         \n",
       "==========================================================================================\n",
       "                             coef    std err          t      P>|t|      [0.025      0.975]\n",
       "------------------------------------------------------------------------------------------\n",
       "Intercept                  0.9505      0.007    141.122      0.000       0.937       0.964\n",
       "C(interaction_x)[T.11]    -0.2698      0.011    -24.932      0.000      -0.291      -0.249\n",
       "C(interaction_x)[T.12]     0.0538      0.007      7.582      0.000       0.040       0.068\n",
       "C(interaction_x)[T.13]    -0.5507      0.010    -55.623      0.000      -0.570      -0.531\n",
       "C(interaction_x)[T.14]    -0.8556      0.028    -30.209      0.000      -0.911      -0.800\n",
       "C(interaction_x)[T.15]    -0.2332      0.012    -20.215      0.000      -0.256      -0.211\n",
       "C(interaction_x)[T.16]    -0.2632      0.011    -23.404      0.000      -0.285      -0.241\n",
       "C(interaction_x)[T.17]    -0.2592      0.009    -27.333      0.000      -0.278      -0.241\n",
       "C(interaction_x)[T.18]    -0.1626      0.014    -11.827      0.000      -0.190      -0.136\n",
       "C(interaction_x)[T.20]    -0.7882      0.013    -62.517      0.000      -0.813      -0.764\n",
       "C(interaction_x)[T.22]    -0.3820      0.015    -26.063      0.000      -0.411      -0.353\n",
       "C(interaction_x)[T.23]    -0.8225      0.016    -50.463      0.000      -0.854      -0.791\n",
       "C(interaction_x)[T.24]    -0.8416      0.040    -21.035      0.000      -0.920      -0.763\n",
       "C(interaction_x)[T.25]    -0.8599      0.095     -9.098      0.000      -1.045      -0.675\n",
       "C(interaction_x)[T.26]    -0.8385      0.120     -6.963      0.000      -1.074      -0.602\n",
       "C(interaction_x)[T.27]    -0.3260      0.012    -26.406      0.000      -0.350      -0.302\n",
       "C(interaction_x)[T.28]    -0.5199      0.014    -37.498      0.000      -0.547      -0.493\n",
       "C(interaction_x)[T.30]    -0.5780      0.013    -44.781      0.000      -0.603      -0.553\n",
       "C(interaction_x)[T.33]    -0.7717      0.020    -38.139      0.000      -0.811      -0.732\n",
       "C(interaction_x)[T.34]    -0.8717      0.048    -18.153      0.000      -0.966      -0.778\n",
       "C(interaction_x)[T.35]    -0.8570      0.062    -13.730      0.000      -0.979      -0.735\n",
       "C(interaction_x)[T.36]    -0.8818      0.095     -9.330      0.000      -1.067      -0.697\n",
       "C(interaction_x)[T.37]    -0.2394      0.009    -26.629      0.000      -0.257      -0.222\n",
       "C(interaction_x)[T.38]    -0.8612      0.015    -57.975      0.000      -0.890      -0.832\n",
       "C(interaction_x)[T.40]    -0.8874      0.108     -8.239      0.000      -1.098      -0.676\n",
       "C(interaction_x)[T.44]    -0.4109      0.021    -19.227      0.000      -0.453      -0.369\n",
       "C(interaction_x)[T.45]    -0.8567      0.196     -4.362      0.000      -1.242      -0.472\n",
       "C(interaction_x)[T.47]    -0.7299      0.016    -45.226      0.000      -0.761      -0.698\n",
       "C(interaction_x)[T.48]    -0.8746      0.120     -7.266      0.000      -1.111      -0.639\n",
       "C(interaction_x)[T.50]    -0.6646      0.013    -49.734      0.000      -0.691      -0.638\n",
       "C(interaction_x)[T.55]    -0.6196      0.015    -40.242      0.000      -0.650      -0.589\n",
       "C(interaction_x)[T.56]    -0.8523      0.060    -14.093      0.000      -0.971      -0.734\n",
       "C(interaction_x)[T.57]    -0.7128      0.012    -59.717      0.000      -0.736      -0.689\n",
       "C(interaction_x)[T.58]    -0.3709      0.019    -19.064      0.000      -0.409      -0.333\n",
       "C(interaction_x)[T.60]     0.0903      0.007     13.278      0.000       0.077       0.104\n",
       "C(interaction_x)[T.66]    -0.8446      0.083    -10.207      0.000      -1.007      -0.682\n",
       "C(interaction_x)[T.67]    -0.8641      0.120     -7.179      0.000      -1.100      -0.628\n",
       "C(interaction_x)[T.68]    -0.8143      0.042    -19.383      0.000      -0.897      -0.732\n",
       "C(interaction_x)[T.78]    -0.4518      0.016    -28.075      0.000      -0.483      -0.420\n",
       "C(interaction_x)[T.80]    -0.1601      0.012    -13.582      0.000      -0.183      -0.137\n",
       "C(year)[T.2019]           -0.0155      0.003     -5.109      0.000      -0.021      -0.010\n",
       "notes_char                -0.0003    1.8e-05    -16.925      0.000      -0.000      -0.000\n",
       "==============================================================================\n",
       "Omnibus:                     3610.777   Durbin-Watson:                   1.998\n",
       "Prob(Omnibus):                  0.000   Jarque-Bera (JB):             5061.492\n",
       "Skew:                          -0.599   Prob(JB):                         0.00\n",
       "Kurtosis:                       3.947   Cond. No.                     3.04e+04\n",
       "==============================================================================\n",
       "\n",
       "Warnings:\n",
       "[1] Standard Errors assume that the covariance matrix of the errors is correctly specified.\n",
       "[2] The condition number is large, 3.04e+04. This might indicate that there are\n",
       "strong multicollinearity or other numerical problems.\n",
       "\"\"\""
      ]
     },
     "execution_count": 262,
     "metadata": {},
     "output_type": "execute_result"
    }
   ],
   "source": [
    "fit = smf.ols('correct_int ~ C(interaction_x) + C(year) + notes_char', test_classif_main_df_vars).fit()\n",
    "fit.summary()"
   ]
  },
  {
   "cell_type": "markdown",
   "metadata": {},
   "source": [
    "ANALYSIS: ACCURACY BY INTERACTION CODES"
   ]
  },
  {
   "cell_type": "markdown",
   "metadata": {},
   "source": [
    "getting variables and merging"
   ]
  },
  {
   "cell_type": "code",
   "execution_count": 193,
   "metadata": {},
   "outputs": [],
   "source": [
    "error_int = pd.DataFrame(test_classif_main_df.groupby('interaction')['correct'].mean())"
   ]
  },
  {
   "cell_type": "code",
   "execution_count": 196,
   "metadata": {},
   "outputs": [],
   "source": [
    "train_list_df = pd.DataFrame(train_list,\n",
    "                             columns = ['data_id',\n",
    "                                        'interaction',\n",
    "                                        'notes'])"
   ]
  },
  {
   "cell_type": "code",
   "execution_count": 195,
   "metadata": {},
   "outputs": [],
   "source": [
    "train_int = pd.DataFrame(train_list_df.groupby('interaction').size() / len(train_list), \n",
    "                         columns = ['per_train'])"
   ]
  },
  {
   "cell_type": "code",
   "execution_count": 203,
   "metadata": {},
   "outputs": [],
   "source": [
    "train_list_df['train characters'] = train_list_df.notes.str.len()"
   ]
  },
  {
   "cell_type": "code",
   "execution_count": 214,
   "metadata": {},
   "outputs": [],
   "source": [
    "train_char = pd.DataFrame(train_list_df.groupby('interaction')['train characters'].mean())"
   ]
  },
  {
   "cell_type": "code",
   "execution_count": 205,
   "metadata": {},
   "outputs": [],
   "source": [
    "test_int = pd.DataFrame(test_classif_main_df.groupby('interaction').size() / len(test_list), \n",
    "                        columns = ['per_test'])"
   ]
  },
  {
   "cell_type": "code",
   "execution_count": 212,
   "metadata": {},
   "outputs": [],
   "source": [
    "merge_inter = pd.merge(test_int.reset_index(), train_int.reset_index(), \n",
    "                       on = 'interaction', how = 'outer')"
   ]
  },
  {
   "cell_type": "code",
   "execution_count": 213,
   "metadata": {},
   "outputs": [],
   "source": [
    "merge_inter = pd.merge(merge_inter, error_int.reset_index(), \n",
    "                       on = 'interaction', how = 'outer')"
   ]
  },
  {
   "cell_type": "code",
   "execution_count": 215,
   "metadata": {},
   "outputs": [],
   "source": [
    "merge_inter = pd.merge(merge_inter, train_char.reset_index(), \n",
    "                       on = 'interaction', how = 'outer')"
   ]
  },
  {
   "cell_type": "code",
   "execution_count": 217,
   "metadata": {},
   "outputs": [],
   "source": [
    "merge_inter.columns = ['interaction code', 'in test', 'in train', 'accuracy', 'characters']"
   ]
  },
  {
   "cell_type": "markdown",
   "metadata": {},
   "source": [
    "graphing"
   ]
  },
  {
   "cell_type": "code",
   "execution_count": null,
   "metadata": {},
   "outputs": [],
   "source": [
    "merge_inter = merge_inter.sort_values(['in train'], ascending = False)"
   ]
  },
  {
   "cell_type": "code",
   "execution_count": 225,
   "metadata": {
    "scrolled": true
   },
   "outputs": [
    {
     "name": "stderr",
     "output_type": "stream",
     "text": [
      "C:\\Users\\gonza\\Anaconda3\\lib\\site-packages\\pandas\\plotting\\_core.py:1716: UserWarning: Pandas doesn't allow columns to be created via a new attribute name - see https://pandas.pydata.org/pandas-docs/stable/indexing.html#attribute-access\n",
      "  series.name = label\n"
     ]
    },
    {
     "data": {
      "image/png": "[encoded data removed]",
      "text/plain": [
       "<matplotlib.figure.Figure at 0x201a69e69b0>"
      ]
     },
     "metadata": {},
     "output_type": "display_data"
    }
   ],
   "source": [
    "err2 = merge_inter.plot.bar(x = 'interaction code',\n",
    "                                 y = ['in test', 'in train'],\n",
    "                                 figsize = (15,5),\n",
    "                            sort_columns = True\n",
    "                            \n",
    "                                )\n",
    "err2.set_ylim(0, .3)\n",
    "err2.set_ylabel('% of rows')\n",
    "err2.grid('on', which='major', axis='y' )"
   ]
  },
  {
   "cell_type": "code",
   "execution_count": 227,
   "metadata": {},
   "outputs": [],
   "source": [
    "merge_inter = merge_inter.sort_values(['accuracy'], ascending = False)"
   ]
  },
  {
   "cell_type": "code",
   "execution_count": 356,
   "metadata": {},
   "outputs": [
    {
     "data": {
      "text/html": [
       "<div>\n",
       "<style scoped>\n",
       "    .dataframe tbody tr th:only-of-type {\n",
       "        vertical-align: middle;\n",
       "    }\n",
       "\n",
       "    .dataframe tbody tr th {\n",
       "        vertical-align: top;\n",
       "    }\n",
       "\n",
       "    .dataframe thead th {\n",
       "        text-align: right;\n",
       "    }\n",
       "</style>\n",
       "<table border=\"1\" class=\"dataframe\">\n",
       "  <thead>\n",
       "    <tr style=\"text-align: right;\">\n",
       "      <th></th>\n",
       "      <th>interaction code</th>\n",
       "      <th>in test</th>\n",
       "      <th>in train</th>\n",
       "      <th>accuracy</th>\n",
       "      <th>characters</th>\n",
       "    </tr>\n",
       "  </thead>\n",
       "  <tbody>\n",
       "    <tr>\n",
       "      <th>34</th>\n",
       "      <td>60</td>\n",
       "      <td>0.298296</td>\n",
       "      <td>0.257172</td>\n",
       "      <td>0.967136</td>\n",
       "      <td>198.206724</td>\n",
       "    </tr>\n",
       "    <tr>\n",
       "      <th>2</th>\n",
       "      <td>12</td>\n",
       "      <td>0.193378</td>\n",
       "      <td>0.159101</td>\n",
       "      <td>0.932143</td>\n",
       "      <td>216.725296</td>\n",
       "    </tr>\n",
       "    <tr>\n",
       "      <th>0</th>\n",
       "      <td>10</td>\n",
       "      <td>0.060085</td>\n",
       "      <td>0.036540</td>\n",
       "      <td>0.899745</td>\n",
       "      <td>151.376881</td>\n",
       "    </tr>\n",
       "    <tr>\n",
       "      <th>39</th>\n",
       "      <td>80</td>\n",
       "      <td>0.021832</td>\n",
       "      <td>0.020623</td>\n",
       "      <td>0.732865</td>\n",
       "      <td>161.578140</td>\n",
       "    </tr>\n",
       "    <tr>\n",
       "      <th>8</th>\n",
       "      <td>18</td>\n",
       "      <td>0.014734</td>\n",
       "      <td>0.018241</td>\n",
       "      <td>0.717448</td>\n",
       "      <td>199.435583</td>\n",
       "    </tr>\n",
       "    <tr>\n",
       "      <th>22</th>\n",
       "      <td>37</td>\n",
       "      <td>0.051548</td>\n",
       "      <td>0.079424</td>\n",
       "      <td>0.646446</td>\n",
       "      <td>183.703462</td>\n",
       "    </tr>\n",
       "    <tr>\n",
       "      <th>5</th>\n",
       "      <td>15</td>\n",
       "      <td>0.024556</td>\n",
       "      <td>0.039485</td>\n",
       "      <td>0.626563</td>\n",
       "      <td>244.352093</td>\n",
       "    </tr>\n",
       "    <tr>\n",
       "      <th>7</th>\n",
       "      <td>17</td>\n",
       "      <td>0.042532</td>\n",
       "      <td>0.044227</td>\n",
       "      <td>0.626522</td>\n",
       "      <td>192.540558</td>\n",
       "    </tr>\n",
       "    <tr>\n",
       "      <th>6</th>\n",
       "      <td>16</td>\n",
       "      <td>0.026110</td>\n",
       "      <td>0.025119</td>\n",
       "      <td>0.601029</td>\n",
       "      <td>228.010565</td>\n",
       "    </tr>\n",
       "    <tr>\n",
       "      <th>1</th>\n",
       "      <td>11</td>\n",
       "      <td>0.029563</td>\n",
       "      <td>0.022462</td>\n",
       "      <td>0.592472</td>\n",
       "      <td>240.053523</td>\n",
       "    </tr>\n",
       "    <tr>\n",
       "      <th>15</th>\n",
       "      <td>27</td>\n",
       "      <td>0.019319</td>\n",
       "      <td>0.034756</td>\n",
       "      <td>0.561072</td>\n",
       "      <td>188.289052</td>\n",
       "    </tr>\n",
       "    <tr>\n",
       "      <th>33</th>\n",
       "      <td>58</td>\n",
       "      <td>0.006580</td>\n",
       "      <td>0.004553</td>\n",
       "      <td>0.492711</td>\n",
       "      <td>226.458567</td>\n",
       "    </tr>\n",
       "    <tr>\n",
       "      <th>10</th>\n",
       "      <td>22</td>\n",
       "      <td>0.012873</td>\n",
       "      <td>0.013461</td>\n",
       "      <td>0.478390</td>\n",
       "      <td>225.240380</td>\n",
       "    </tr>\n",
       "    <tr>\n",
       "      <th>25</th>\n",
       "      <td>44</td>\n",
       "      <td>0.005314</td>\n",
       "      <td>0.013106</td>\n",
       "      <td>0.465704</td>\n",
       "      <td>223.336180</td>\n",
       "    </tr>\n",
       "    <tr>\n",
       "      <th>38</th>\n",
       "      <td>78</td>\n",
       "      <td>0.010014</td>\n",
       "      <td>0.015517</td>\n",
       "      <td>0.436782</td>\n",
       "      <td>180.740367</td>\n",
       "    </tr>\n",
       "    <tr>\n",
       "      <th>16</th>\n",
       "      <td>28</td>\n",
       "      <td>0.014427</td>\n",
       "      <td>0.032463</td>\n",
       "      <td>0.363032</td>\n",
       "      <td>208.125874</td>\n",
       "    </tr>\n",
       "    <tr>\n",
       "      <th>3</th>\n",
       "      <td>13</td>\n",
       "      <td>0.037601</td>\n",
       "      <td>0.054343</td>\n",
       "      <td>0.325510</td>\n",
       "      <td>204.353848</td>\n",
       "    </tr>\n",
       "    <tr>\n",
       "      <th>17</th>\n",
       "      <td>30</td>\n",
       "      <td>0.017170</td>\n",
       "      <td>0.012269</td>\n",
       "      <td>0.308380</td>\n",
       "      <td>172.022935</td>\n",
       "    </tr>\n",
       "    <tr>\n",
       "      <th>30</th>\n",
       "      <td>55</td>\n",
       "      <td>0.011242</td>\n",
       "      <td>0.015741</td>\n",
       "      <td>0.252560</td>\n",
       "      <td>208.378225</td>\n",
       "    </tr>\n",
       "    <tr>\n",
       "      <th>29</th>\n",
       "      <td>50</td>\n",
       "      <td>0.015942</td>\n",
       "      <td>0.020639</td>\n",
       "      <td>0.209386</td>\n",
       "      <td>203.883656</td>\n",
       "    </tr>\n",
       "    <tr>\n",
       "      <th>32</th>\n",
       "      <td>57</td>\n",
       "      <td>0.021467</td>\n",
       "      <td>0.015507</td>\n",
       "      <td>0.160858</td>\n",
       "      <td>200.203093</td>\n",
       "    </tr>\n",
       "    <tr>\n",
       "      <th>27</th>\n",
       "      <td>47</td>\n",
       "      <td>0.010033</td>\n",
       "      <td>0.011962</td>\n",
       "      <td>0.145315</td>\n",
       "      <td>226.512430</td>\n",
       "    </tr>\n",
       "    <tr>\n",
       "      <th>9</th>\n",
       "      <td>20</td>\n",
       "      <td>0.018187</td>\n",
       "      <td>0.015479</td>\n",
       "      <td>0.112869</td>\n",
       "      <td>187.359636</td>\n",
       "    </tr>\n",
       "    <tr>\n",
       "      <th>18</th>\n",
       "      <td>33</td>\n",
       "      <td>0.005985</td>\n",
       "      <td>0.008575</td>\n",
       "      <td>0.105769</td>\n",
       "      <td>219.372856</td>\n",
       "    </tr>\n",
       "    <tr>\n",
       "      <th>11</th>\n",
       "      <td>23</td>\n",
       "      <td>0.009707</td>\n",
       "      <td>0.008684</td>\n",
       "      <td>0.067194</td>\n",
       "      <td>207.144698</td>\n",
       "    </tr>\n",
       "    <tr>\n",
       "      <th>37</th>\n",
       "      <td>68</td>\n",
       "      <td>0.001285</td>\n",
       "      <td>0.000911</td>\n",
       "      <td>0.059701</td>\n",
       "      <td>219.210526</td>\n",
       "    </tr>\n",
       "    <tr>\n",
       "      <th>12</th>\n",
       "      <td>24</td>\n",
       "      <td>0.001420</td>\n",
       "      <td>0.002740</td>\n",
       "      <td>0.040541</td>\n",
       "      <td>222.831972</td>\n",
       "    </tr>\n",
       "    <tr>\n",
       "      <th>23</th>\n",
       "      <td>38</td>\n",
       "      <td>0.012182</td>\n",
       "      <td>0.006066</td>\n",
       "      <td>0.018898</td>\n",
       "      <td>203.094360</td>\n",
       "    </tr>\n",
       "    <tr>\n",
       "      <th>4</th>\n",
       "      <td>14</td>\n",
       "      <td>0.002916</td>\n",
       "      <td>0.003981</td>\n",
       "      <td>0.006579</td>\n",
       "      <td>250.579920</td>\n",
       "    </tr>\n",
       "    <tr>\n",
       "      <th>35</th>\n",
       "      <td>66</td>\n",
       "      <td>0.000326</td>\n",
       "      <td>0.000438</td>\n",
       "      <td>0.000000</td>\n",
       "      <td>270.941606</td>\n",
       "    </tr>\n",
       "    <tr>\n",
       "      <th>26</th>\n",
       "      <td>45</td>\n",
       "      <td>0.000058</td>\n",
       "      <td>0.000067</td>\n",
       "      <td>0.000000</td>\n",
       "      <td>261.857143</td>\n",
       "    </tr>\n",
       "    <tr>\n",
       "      <th>13</th>\n",
       "      <td>25</td>\n",
       "      <td>0.000249</td>\n",
       "      <td>0.000109</td>\n",
       "      <td>0.000000</td>\n",
       "      <td>214.176471</td>\n",
       "    </tr>\n",
       "    <tr>\n",
       "      <th>14</th>\n",
       "      <td>26</td>\n",
       "      <td>0.000153</td>\n",
       "      <td>0.000217</td>\n",
       "      <td>0.000000</td>\n",
       "      <td>230.632353</td>\n",
       "    </tr>\n",
       "    <tr>\n",
       "      <th>28</th>\n",
       "      <td>48</td>\n",
       "      <td>0.000153</td>\n",
       "      <td>0.000419</td>\n",
       "      <td>0.000000</td>\n",
       "      <td>261.396947</td>\n",
       "    </tr>\n",
       "    <tr>\n",
       "      <th>21</th>\n",
       "      <td>36</td>\n",
       "      <td>0.000249</td>\n",
       "      <td>0.000831</td>\n",
       "      <td>0.000000</td>\n",
       "      <td>243.038462</td>\n",
       "    </tr>\n",
       "    <tr>\n",
       "      <th>20</th>\n",
       "      <td>35</td>\n",
       "      <td>0.000576</td>\n",
       "      <td>0.000620</td>\n",
       "      <td>0.000000</td>\n",
       "      <td>229.948454</td>\n",
       "    </tr>\n",
       "    <tr>\n",
       "      <th>24</th>\n",
       "      <td>40</td>\n",
       "      <td>0.000192</td>\n",
       "      <td>0.000697</td>\n",
       "      <td>0.000000</td>\n",
       "      <td>230.954128</td>\n",
       "    </tr>\n",
       "    <tr>\n",
       "      <th>31</th>\n",
       "      <td>56</td>\n",
       "      <td>0.000614</td>\n",
       "      <td>0.000828</td>\n",
       "      <td>0.000000</td>\n",
       "      <td>241.401544</td>\n",
       "    </tr>\n",
       "    <tr>\n",
       "      <th>19</th>\n",
       "      <td>34</td>\n",
       "      <td>0.000978</td>\n",
       "      <td>0.002571</td>\n",
       "      <td>0.000000</td>\n",
       "      <td>218.276119</td>\n",
       "    </tr>\n",
       "    <tr>\n",
       "      <th>36</th>\n",
       "      <td>67</td>\n",
       "      <td>0.000153</td>\n",
       "      <td>0.000010</td>\n",
       "      <td>0.000000</td>\n",
       "      <td>281.666667</td>\n",
       "    </tr>\n",
       "    <tr>\n",
       "      <th>40</th>\n",
       "      <td>46</td>\n",
       "      <td>NaN</td>\n",
       "      <td>0.000045</td>\n",
       "      <td>NaN</td>\n",
       "      <td>213.357143</td>\n",
       "    </tr>\n",
       "  </tbody>\n",
       "</table>\n",
       "</div>"
      ],
      "text/plain": [
       "    interaction code   in test  in train  accuracy  characters\n",
       "34                60  0.298296  0.257172  0.967136  198.206724\n",
       "2                 12  0.193378  0.159101  0.932143  216.725296\n",
       "0                 10  0.060085  0.036540  0.899745  151.376881\n",
       "39                80  0.021832  0.020623  0.732865  161.578140\n",
       "8                 18  0.014734  0.018241  0.717448  199.435583\n",
       "22                37  0.051548  0.079424  0.646446  183.703462\n",
       "5                 15  0.024556  0.039485  0.626563  244.352093\n",
       "7                 17  0.042532  0.044227  0.626522  192.540558\n",
       "6                 16  0.026110  0.025119  0.601029  228.010565\n",
       "1                 11  0.029563  0.022462  0.592472  240.053523\n",
       "15                27  0.019319  0.034756  0.561072  188.289052\n",
       "33                58  0.006580  0.004553  0.492711  226.458567\n",
       "10                22  0.012873  0.013461  0.478390  225.240380\n",
       "25                44  0.005314  0.013106  0.465704  223.336180\n",
       "38                78  0.010014  0.015517  0.436782  180.740367\n",
       "16                28  0.014427  0.032463  0.363032  208.125874\n",
       "3                 13  0.037601  0.054343  0.325510  204.353848\n",
       "17                30  0.017170  0.012269  0.308380  172.022935\n",
       "30                55  0.011242  0.015741  0.252560  208.378225\n",
       "29                50  0.015942  0.020639  0.209386  203.883656\n",
       "32                57  0.021467  0.015507  0.160858  200.203093\n",
       "27                47  0.010033  0.011962  0.145315  226.512430\n",
       "9                 20  0.018187  0.015479  0.112869  187.359636\n",
       "18                33  0.005985  0.008575  0.105769  219.372856\n",
       "11                23  0.009707  0.008684  0.067194  207.144698\n",
       "37                68  0.001285  0.000911  0.059701  219.210526\n",
       "12                24  0.001420  0.002740  0.040541  222.831972\n",
       "23                38  0.012182  0.006066  0.018898  203.094360\n",
       "4                 14  0.002916  0.003981  0.006579  250.579920\n",
       "35                66  0.000326  0.000438  0.000000  270.941606\n",
       "26                45  0.000058  0.000067  0.000000  261.857143\n",
       "13                25  0.000249  0.000109  0.000000  214.176471\n",
       "14                26  0.000153  0.000217  0.000000  230.632353\n",
       "28                48  0.000153  0.000419  0.000000  261.396947\n",
       "21                36  0.000249  0.000831  0.000000  243.038462\n",
       "20                35  0.000576  0.000620  0.000000  229.948454\n",
       "24                40  0.000192  0.000697  0.000000  230.954128\n",
       "31                56  0.000614  0.000828  0.000000  241.401544\n",
       "19                34  0.000978  0.002571  0.000000  218.276119\n",
       "36                67  0.000153  0.000010  0.000000  281.666667\n",
       "40                46       NaN  0.000045       NaN  213.357143"
      ]
     },
     "execution_count": 356,
     "metadata": {},
     "output_type": "execute_result"
    }
   ],
   "source": [
    "merge_inter"
   ]
  },
  {
   "cell_type": "code",
   "execution_count": 233,
   "metadata": {
    "scrolled": false
   },
   "outputs": [
    {
     "name": "stderr",
     "output_type": "stream",
     "text": [
      "C:\\Users\\gonza\\Anaconda3\\lib\\site-packages\\pandas\\plotting\\_core.py:1716: UserWarning: Pandas doesn't allow columns to be created via a new attribute name - see https://pandas.pydata.org/pandas-docs/stable/indexing.html#attribute-access\n",
      "  series.name = label\n"
     ]
    },
    {
     "data": {
      "image/png": "[encoded data removed]",
      "text/plain": [
       "<matplotlib.figure.Figure at 0x201a865e400>"
      ]
     },
     "metadata": {},
     "output_type": "display_data"
    }
   ],
   "source": [
    "err1 = merge_inter.plot.bar(x = 'interaction code',\n",
    "                                 y = ['accuracy', 'in train'],\n",
    "                                 secondary_y = ['in train'],\n",
    "                                 figsize = (15,5),\n",
    "                            \n",
    "                            sort_columns = True\n",
    "                            \n",
    "                                )\n",
    "err1.set_ylim(0, 1)\n",
    "err1.set_ylabel('accuracy')\n",
    "err1.right_ax.set_ylim(0, .3)\n",
    "err1.right_ax.set_yticks([0, 0.06, 0.12, 0.18, 0.24, 0.3])\n",
    "err1.right_ax.set_ylabel('% of rows')\n",
    "err1.axhline(y = (test_acc), color = 'red')\n",
    "err1.grid('on', which='major', axis='y' )\n"
   ]
  },
  {
   "cell_type": "code",
   "execution_count": 234,
   "metadata": {},
   "outputs": [
    {
     "name": "stderr",
     "output_type": "stream",
     "text": [
      "C:\\Users\\gonza\\Anaconda3\\lib\\site-packages\\pandas\\plotting\\_core.py:1716: UserWarning: Pandas doesn't allow columns to be created via a new attribute name - see https://pandas.pydata.org/pandas-docs/stable/indexing.html#attribute-access\n",
      "  series.name = label\n"
     ]
    },
    {
     "data": {
      "image/png": "[encoded data removed]",
      "text/plain": [
       "<matplotlib.figure.Figure at 0x201a4bdfcc0>"
      ]
     },
     "metadata": {},
     "output_type": "display_data"
    }
   ],
   "source": [
    "err3 = merge_inter.plot.bar(x = 'interaction code',\n",
    "                                 y = ['accuracy', 'characters'],\n",
    "                                 secondary_y = ['characters'],\n",
    "                                 figsize = (15,5),\n",
    "                            \n",
    "                            sort_columns = True\n",
    "                            \n",
    "                                )\n",
    "err3.set_ylim(0, 1)\n",
    "err3.set_ylabel('accuracy')\n",
    "err3.right_ax.set_ylim(100, 300)\n",
    "err3.right_ax.set_yticks([100, 140, 180, 220, 260, 300])\n",
    "err3.right_ax.set_ylabel('average # characters')\n",
    "err3.axhline(y = (test_acc), color = 'red')\n",
    "err3.grid('on', which='major', axis='y' )\n"
   ]
  },
  {
   "cell_type": "markdown",
   "metadata": {},
   "source": [
    "RUNNING BASELINE SIMPLE LINEAR MODEL"
   ]
  },
  {
   "cell_type": "code",
   "execution_count": 26,
   "metadata": {},
   "outputs": [],
   "source": [
    "class InterClassifierLinear(nn.Module):\n",
    "\n",
    "    def __init__(self, categories_size, learn_rate = 0.001):\n",
    "        super(InterClassifierLinear, self).__init__()\n",
    "        \n",
    "        self.linear1 = nn.Linear(300, categories_size)\n",
    "\n",
    "        self.loss_function = nn.NLLLoss()\n",
    "        self.optimizer = optim.Adam(self.parameters(), lr=learn_rate)\n",
    "\n",
    "\n",
    "    def forward(self, inputs):\n",
    "        # we ignore the embedding step since its included from spacy word2vec pre-trained model\n",
    "        out = F.relu(self.linear1(inputs))\n",
    "        log_probs = F.log_softmax(out, dim=1)\n",
    "        return log_probs\n",
    "    \n",
    "    def classify(self, docs):\n",
    "        '''\n",
    "        This function classifies/predicts documents into their categories. \n",
    "        '''\n",
    "        classif = []\n",
    "        with torch.no_grad():\n",
    "            for data_id, target, note in docs:\n",
    "                #vectorize in embeddings using spacy pre-trained model\n",
    "                embeds = (nlp(note)).vector\n",
    "                note_vec = torch.tensor([embeds])\n",
    "\n",
    "                # spacy embedding is input of model\n",
    "                log_probs = self.forward(note_vec)\n",
    "\n",
    "                # fingin the max label\n",
    "                pred_idx = ((torch.topk(log_probs, 1)[1])[0]).item()\n",
    "                pred = idx_to_label[pred_idx]\n",
    "\n",
    "                # storing into output\n",
    "                classif.append((data_id, target, note, pred))\n",
    "        return classif            \n",
    "                \n",
    "                \n",
    "    def evaluate_classifier_accuracy(self, data):\n",
    "        '''\n",
    "        This function evaluates the data with the current model. \n",
    "        data contains both documents and labels. \n",
    "        It calls classify() to make predictions, \n",
    "        and compares with the correct labels to return \n",
    "        the model accuracy on \"data\". \n",
    "        '''\n",
    "\n",
    "        error_sum = 0\n",
    "\n",
    "        # calls classify to predict label in each case\n",
    "        classif_dat = self.classify(data)\n",
    "\n",
    "        # compares target to pred and calculates error rate\n",
    "        for data_id, target, note, pred in classif_dat:\n",
    "            if pred == target:\n",
    "                error_sum = error_sum\n",
    "            else:\n",
    "                error_sum += 1\n",
    "        error = error_sum/len(classif_dat)\n",
    "        \n",
    "        return error\n",
    "    \n",
    "    \n",
    "    def train(self, training_list, development_list, n_epochs):\n",
    "        \n",
    "        losses = []\n",
    "        dev_err = []\n",
    "        error = 1\n",
    "        \n",
    "        for epoch in range(n_epochs):\n",
    "            i = 0\n",
    "            running_loss = 0.0\n",
    "            for data_id, target, note in training_list:\n",
    "\n",
    "                # cleaning gradiatent\n",
    "                self.zero_grad()\n",
    "                \n",
    "                # vectorizing text using spacy pre-trained model\n",
    "                embeds = (nlp(note)).vector\n",
    "                note_vec = torch.tensor([embeds])\n",
    "                \n",
    "                # including embedding into model and predicting\n",
    "                predictions = self.forward(note_vec)\n",
    "\n",
    "                # identifying target index\n",
    "                target_idx = torch.tensor([label_to_idx[target]])\n",
    "                \n",
    "                # calculating loss and applying gradiant descent\n",
    "                loss = self.loss_function(predictions, target_idx)\n",
    "                loss.backward()\n",
    "                self.optimizer.step()\n",
    "\n",
    "                # print statistics of loss and dev error rate. Chunck taken from https://pytorch.org/tutorials/beginner/blitz/cifar10_tutorial.html\n",
    "                i += 1\n",
    "                running_loss += loss.item()\n",
    "                if i % 5000 == 0:    # print average loss every 5,000\n",
    "                    print('[%5d] loss: %.3f' % (i, running_loss / 5000))\n",
    "                    losses.append(running_loss)\n",
    "                    running_loss = 0.0\n",
    "                if i % 80000 == 0 or i == 312752:    # check dev error every 80,000 or at end of train data and save best model\n",
    "                    model_err = self.evaluate_classifier_accuracy(development_list)\n",
    "                    print('dev error: ', model_err)\n",
    "                    dev_err.append(model_err)\n",
    "                    if model_err < error:\n",
    "                        error = model_err\n",
    "                        best_model = copy.deepcopy(self)\n",
    "\n",
    "           \n",
    "        return best_model, error, losses, dev_err\n",
    "    "
   ]
  },
  {
   "cell_type": "code",
   "execution_count": 27,
   "metadata": {},
   "outputs": [],
   "source": [
    "bl_model = InterClassifierLinear(41)"
   ]
  },
  {
   "cell_type": "code",
   "execution_count": 28,
   "metadata": {},
   "outputs": [
    {
     "name": "stdout",
     "output_type": "stream",
     "text": [
      "2019-06-02 10:09:05.075634\n"
     ]
    }
   ],
   "source": [
    "print(datetime.datetime.now())"
   ]
  },
  {
   "cell_type": "code",
   "execution_count": 29,
   "metadata": {
    "scrolled": true
   },
   "outputs": [
    {
     "name": "stdout",
     "output_type": "stream",
     "text": [
      "[ 5000] loss: 2.738\n",
      "[10000] loss: 2.561\n",
      "[15000] loss: 2.529\n",
      "[20000] loss: 2.534\n",
      "[25000] loss: 2.534\n",
      "[30000] loss: 2.510\n",
      "[35000] loss: 2.444\n",
      "[40000] loss: 2.501\n",
      "[45000] loss: 2.481\n",
      "[50000] loss: 2.447\n",
      "[55000] loss: 2.491\n",
      "[60000] loss: 2.434\n",
      "[65000] loss: 2.482\n",
      "[70000] loss: 2.465\n",
      "[75000] loss: 2.480\n",
      "[80000] loss: 2.455\n",
      "dev error:  0.5004796071058589\n",
      "[85000] loss: 2.404\n",
      "[90000] loss: 2.426\n",
      "[95000] loss: 2.403\n",
      "[100000] loss: 2.415\n",
      "[105000] loss: 2.407\n",
      "[110000] loss: 2.457\n",
      "[115000] loss: 2.399\n",
      "[120000] loss: 2.438\n",
      "[125000] loss: 2.430\n",
      "[130000] loss: 2.436\n",
      "[135000] loss: 2.442\n",
      "[140000] loss: 2.462\n",
      "[145000] loss: 2.439\n",
      "[150000] loss: 2.385\n",
      "[155000] loss: 2.417\n",
      "[160000] loss: 2.439\n",
      "dev error:  0.4977362544603461\n",
      "[165000] loss: 2.471\n",
      "[170000] loss: 2.471\n",
      "[175000] loss: 2.431\n",
      "[180000] loss: 2.429\n",
      "[185000] loss: 2.453\n",
      "[190000] loss: 2.415\n",
      "[195000] loss: 2.413\n",
      "[200000] loss: 2.437\n",
      "[205000] loss: 2.425\n",
      "[210000] loss: 2.421\n",
      "[215000] loss: 2.445\n",
      "[220000] loss: 2.438\n",
      "[225000] loss: 2.427\n",
      "[230000] loss: 2.421\n",
      "[235000] loss: 2.427\n",
      "[240000] loss: 2.407\n",
      "dev error:  0.49353489621302227\n",
      "[245000] loss: 2.413\n",
      "[250000] loss: 2.431\n",
      "[255000] loss: 2.442\n",
      "[260000] loss: 2.391\n",
      "[265000] loss: 2.413\n",
      "[270000] loss: 2.378\n",
      "[275000] loss: 2.404\n",
      "[280000] loss: 2.420\n",
      "[285000] loss: 2.446\n",
      "[290000] loss: 2.409\n",
      "[295000] loss: 2.444\n",
      "[300000] loss: 2.427\n",
      "[305000] loss: 2.420\n",
      "[310000] loss: 2.439\n",
      "dev error:  0.49457084756167746\n",
      "[ 5000] loss: 2.391\n",
      "[10000] loss: 2.394\n",
      "[15000] loss: 2.405\n",
      "[20000] loss: 2.440\n",
      "[25000] loss: 2.441\n",
      "[30000] loss: 2.427\n",
      "[35000] loss: 2.374\n",
      "[40000] loss: 2.429\n",
      "[45000] loss: 2.416\n",
      "[50000] loss: 2.387\n",
      "[55000] loss: 2.432\n",
      "[60000] loss: 2.380\n",
      "[65000] loss: 2.430\n",
      "[70000] loss: 2.419\n",
      "[75000] loss: 2.433\n",
      "[80000] loss: 2.415\n",
      "dev error:  0.4945132947089744\n",
      "[85000] loss: 2.363\n",
      "[90000] loss: 2.387\n",
      "[95000] loss: 2.369\n",
      "[100000] loss: 2.384\n",
      "[105000] loss: 2.372\n",
      "[110000] loss: 2.423\n",
      "[115000] loss: 2.367\n",
      "[120000] loss: 2.412\n",
      "[125000] loss: 2.399\n",
      "[130000] loss: 2.408\n",
      "[135000] loss: 2.414\n",
      "[140000] loss: 2.437\n",
      "[145000] loss: 2.417\n",
      "[150000] loss: 2.362\n",
      "[155000] loss: 2.395\n",
      "[160000] loss: 2.416\n",
      "dev error:  0.4922495491693205\n",
      "[165000] loss: 2.453\n",
      "[170000] loss: 2.453\n",
      "[175000] loss: 2.412\n",
      "[180000] loss: 2.410\n",
      "[185000] loss: 2.435\n",
      "[190000] loss: 2.396\n",
      "[195000] loss: 2.396\n",
      "[200000] loss: 2.419\n",
      "[205000] loss: 2.409\n",
      "[210000] loss: 2.402\n",
      "[215000] loss: 2.431\n",
      "[220000] loss: 2.425\n",
      "[225000] loss: 2.411\n",
      "[230000] loss: 2.408\n",
      "[235000] loss: 2.412\n",
      "[240000] loss: 2.394\n",
      "dev error:  0.48956374937651076\n",
      "[245000] loss: 2.401\n",
      "[250000] loss: 2.418\n",
      "[255000] loss: 2.430\n",
      "[260000] loss: 2.380\n",
      "[265000] loss: 2.400\n",
      "[270000] loss: 2.367\n",
      "[275000] loss: 2.394\n",
      "[280000] loss: 2.409\n",
      "[285000] loss: 2.436\n",
      "[290000] loss: 2.397\n",
      "[295000] loss: 2.433\n",
      "[300000] loss: 2.415\n",
      "[305000] loss: 2.410\n",
      "[310000] loss: 2.428\n",
      "dev error:  0.4920001534742739\n"
     ]
    }
   ],
   "source": [
    "best_bl, besterror_bl, losses_bl, deverr_bl = bl_model.train(train_list, dev_list, 2)"
   ]
  },
  {
   "cell_type": "code",
   "execution_count": 30,
   "metadata": {},
   "outputs": [
    {
     "name": "stdout",
     "output_type": "stream",
     "text": [
      "2019-06-02 14:49:42.726975\n"
     ]
    }
   ],
   "source": [
    "print(datetime.datetime.now())"
   ]
  },
  {
   "cell_type": "code",
   "execution_count": 31,
   "metadata": {
    "scrolled": true
   },
   "outputs": [
    {
     "name": "stderr",
     "output_type": "stream",
     "text": [
      "C:\\Users\\gonza\\Anaconda3\\lib\\site-packages\\torch\\serialization.py:251: UserWarning: Couldn't retrieve source code for container of type InterClassifierLinear. It won't be checked for correctness upon loading.\n",
      "  \"type \" + obj.__name__ + \". It won't be checked \"\n"
     ]
    }
   ],
   "source": [
    "# saving the best trained model \n",
    "torch.save(best_bl, \"obj1/best_model_bl.pt\")"
   ]
  },
  {
   "cell_type": "code",
   "execution_count": 32,
   "metadata": {},
   "outputs": [],
   "source": [
    "#best_bl = torch.load(\"obj1/best_model_bl.pt\")"
   ]
  },
  {
   "cell_type": "code",
   "execution_count": 39,
   "metadata": {},
   "outputs": [],
   "source": [
    "deverr_bl_df = pd.DataFrame(deverr_bl)\n",
    "losses_bl_df = pd.DataFrame(losses_bl)\n",
    "deverr_bl_df.to_csv('obj1/deverr_bl.csv', index = False)\n",
    "losses_bl_df.to_csv('obj1/losses_bl.csv', index = False)"
   ]
  },
  {
   "cell_type": "code",
   "execution_count": 33,
   "metadata": {},
   "outputs": [
    {
     "data": {
      "text/plain": [
       "<matplotlib.axes._subplots.AxesSubplot at 0x200c0602c88>"
      ]
     },
     "execution_count": 33,
     "metadata": {},
     "output_type": "execute_result"
    },
    {
     "data": {
      "image/png": "[encoded data removed]",
      "text/plain": [
       "<matplotlib.figure.Figure at 0x200c06c3898>"
      ]
     },
     "metadata": {},
     "output_type": "display_data"
    }
   ],
   "source": [
    "%matplotlib inline\n",
    "pd.Series(losses_bl).plot()"
   ]
  },
  {
   "cell_type": "code",
   "execution_count": 34,
   "metadata": {},
   "outputs": [],
   "source": [
    "test_classif_bl = best_bl.classify(test_list)"
   ]
  },
  {
   "cell_type": "code",
   "execution_count": 35,
   "metadata": {},
   "outputs": [],
   "source": [
    "pd.DataFrame(test_classif_bl).to_csv('obj1/test_classif_bl.csv', index = False)\n",
    "test_classif_bl_df = pd.DataFrame(test_classif_bl)"
   ]
  },
  {
   "cell_type": "code",
   "execution_count": 263,
   "metadata": {},
   "outputs": [],
   "source": [
    "test_classif_bl_df = pd.DataFrame(test_classif_bl, \n",
    "                                    columns = ['data_id', 'interaction', 'notes', 'pred'])"
   ]
  },
  {
   "cell_type": "code",
   "execution_count": 264,
   "metadata": {},
   "outputs": [],
   "source": [
    "test_classif_bl_df['correct'] = test_classif_bl_df['interaction'] == test_classif_bl_df['pred']"
   ]
  },
  {
   "cell_type": "code",
   "execution_count": 347,
   "metadata": {},
   "outputs": [
    {
     "data": {
      "text/plain": [
       "0.5088823236005064"
      ]
     },
     "execution_count": 347,
     "metadata": {},
     "output_type": "execute_result"
    }
   ],
   "source": [
    "test_classif_bl_df.correct.mean()"
   ]
  }
 ],
 "metadata": {
  "kernelspec": {
   "display_name": "Python 3",
   "language": "python",
   "name": "python3"
  },
  "language_info": {
   "codemirror_mode": {
    "name": "ipython",
    "version": 3
   },
   "file_extension": ".py",
   "mimetype": "text/x-python",
   "name": "python",
   "nbconvert_exporter": "python",
   "pygments_lexer": "ipython3",
   "version": "3.7.1"
  }
 },
 "nbformat": 4,
 "nbformat_minor": 2
}
